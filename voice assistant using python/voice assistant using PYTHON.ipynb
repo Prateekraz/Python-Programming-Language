{
 "cells": [
  {
   "cell_type": "code",
   "execution_count": 6,
   "id": "d77a5595",
   "metadata": {},
   "outputs": [
    {
     "name": "stdout",
     "output_type": "stream",
     "text": [
      "Requirement already satisfied: pyttsx3 in c:\\users\\lenovo\\anaconda3\\lib\\site-packages (2.90)\n",
      "Requirement already satisfied: pypiwin32 in c:\\users\\lenovo\\anaconda3\\lib\\site-packages (from pyttsx3) (223)\n",
      "Requirement already satisfied: pywin32 in c:\\users\\lenovo\\anaconda3\\lib\\site-packages (from pyttsx3) (305.1)\n",
      "Requirement already satisfied: comtypes in c:\\users\\lenovo\\anaconda3\\lib\\site-packages (from pyttsx3) (1.3.0)\n"
     ]
    }
   ],
   "source": [
    "!pip install pyttsx3"
   ]
  },
  {
   "cell_type": "code",
   "execution_count": 7,
   "id": "ecf71ea0",
   "metadata": {},
   "outputs": [
    {
     "name": "stdout",
     "output_type": "stream",
     "text": [
      "Requirement already satisfied: speechrecognition in c:\\users\\lenovo\\anaconda3\\lib\\site-packages (3.10.1)\n",
      "Requirement already satisfied: typing-extensions in c:\\users\\lenovo\\anaconda3\\lib\\site-packages (from speechrecognition) (4.4.0)\n",
      "Requirement already satisfied: requests>=2.26.0 in c:\\users\\lenovo\\anaconda3\\lib\\site-packages (from speechrecognition) (2.28.1)\n",
      "Requirement already satisfied: certifi>=2017.4.17 in c:\\users\\lenovo\\anaconda3\\lib\\site-packages (from requests>=2.26.0->speechrecognition) (2022.12.7)\n",
      "Requirement already satisfied: charset-normalizer<3,>=2 in c:\\users\\lenovo\\anaconda3\\lib\\site-packages (from requests>=2.26.0->speechrecognition) (2.0.4)\n",
      "Requirement already satisfied: urllib3<1.27,>=1.21.1 in c:\\users\\lenovo\\anaconda3\\lib\\site-packages (from requests>=2.26.0->speechrecognition) (1.26.14)\n",
      "Requirement already satisfied: idna<4,>=2.5 in c:\\users\\lenovo\\anaconda3\\lib\\site-packages (from requests>=2.26.0->speechrecognition) (3.4)\n"
     ]
    }
   ],
   "source": [
    "!pip install speechrecognition"
   ]
  },
  {
   "cell_type": "code",
   "execution_count": 8,
   "id": "f3bb4c91",
   "metadata": {},
   "outputs": [
    {
     "name": "stdout",
     "output_type": "stream",
     "text": [
      "Requirement already satisfied: pyaudio in c:\\users\\lenovo\\anaconda3\\lib\\site-packages (0.2.14)\n"
     ]
    }
   ],
   "source": [
    "!pip install pyaudio"
   ]
  },
  {
   "cell_type": "code",
   "execution_count": 10,
   "id": "a2e762f6",
   "metadata": {},
   "outputs": [],
   "source": [
    "import pyttsx3\n",
    "import datetime\n",
    "import speech_recognition as sr\n",
    "import webbrowser\n",
    "import smtplib\n",
    "import pyaudio\n",
    "import os\n",
    "import pyjokes\n"
   ]
  },
  {
   "cell_type": "code",
   "execution_count": 30,
   "id": "914119d4",
   "metadata": {},
   "outputs": [],
   "source": [
    "engine = pyttsx3.init('sapi5')\n",
    "\n",
    "def speak(audio):\n",
    "    engine.say(audio)\n",
    "    engine.runAndWait()\n",
    "\n",
    "def wishMe():\n",
    "    hour = int(datetime.datetime.now().hour)\n",
    "\n",
    "    if hour >= 0 and hour < 6:\n",
    "        speak(\"Hey Owl\")\n",
    "\n",
    "    elif hour >= 6 and hour < 12:\n",
    "        speak(\"Good Morning\")\n",
    "\n",
    "    elif hour >= 12 and hour < 18:\n",
    "        speak(\"Good Afternoon\")\n",
    "\n",
    "    else:\n",
    "        speak(\"Hello sir\")\n",
    "\n",
    "    speak(\"I'm osky\")\n",
    "    speak(\"Please tell me how may i help you ?\")\n",
    "    #speak(\"I'm SIFRA, Prateek's assistant\")\n",
    "    #speak(\"Please tell me how may i help you ?\")"
   ]
  },
  {
   "cell_type": "code",
   "execution_count": 31,
   "id": "36aa4991",
   "metadata": {},
   "outputs": [],
   "source": [
    "def takeCommand():\n",
    "    recognizer = sr.Recognizer()\n",
    "    with sr.Microphone() as source:\n",
    "        print(\"Listening....\")\n",
    "        recognizer.pause_threshold = 1\n",
    "        audio = recognizer.listen(source)\n",
    "\n",
    "    try:\n",
    "        print(\"Recognising.....\")\n",
    "        query = recognizer.recognize_google(audio, language='en-in')\n",
    "        print(f\"User said: {query}\\n\")\n",
    "        \n",
    "    except Exception as e:\n",
    "        print(e)\n",
    "        print(\"Say that again please.....\")\n",
    "        return \"None\"\n",
    "    return query\n"
   ]
  },
  {
   "cell_type": "code",
   "execution_count": 32,
   "id": "5b0943b8",
   "metadata": {},
   "outputs": [
    {
     "name": "stdout",
     "output_type": "stream",
     "text": [
      "Listening....\n",
      "Recognising.....\n",
      "\n",
      "Say that again please.....\n",
      "Listening....\n",
      "Recognising.....\n",
      "User said: play song\n",
      "\n",
      "['1st pair.mp3', 'anamikaa.mp3', 'BASS_BOOSTED_2023___TRANCE___CAR_MUSIC_MIX_2023___ELECTRO_HOUSE_MIX_🔥🔊(256k).mp3', 'Bionic_Pulse_-_No_Sweat_Remix_[Psychedelic_Visualizer](256k).mp3', 'BOOM_BOOM____EDM_TRANCE_REMASTERING_____DJ_HULIGESH_KPL_(256k).mp3', 'Breathless(256k).mp3', 'Coke_Studio_Bharat___Khalasi___Aditya_Gadhvi_x_Achint(256k).mp3', 'Digga_D_X_OFB_SJ_X_UK_Drill_Type_Beat__-__DROP____UK_Drill_Instrumental_2023(256k).mp3', 'High_Level_Bass_Trance_Music_2023____Edm_Dance_Drop_Mix____New_Dj_Song_2023(256k).mp3', 'Human__Extended_Mix_(256k).mp3', 'Khalasi_Remix___Subha_ka_Muzik___Aditya_Gadhvi_x_Achint___Coke_Studio_Bharat___Dance___Dj_Remix_2023(256k).mp3', 'last 1.mp3', 'last 2.mp3', 'long.mp4', 'long2.mp3', 'manaswi.mp3', 'mhima.mp3', 'Mumbai_Dance(256k).mp3', 'munda.mp3', 'neha pndey.mp3', 'One_Time_-Extended_Mix-_Sound_Check_Dj_Ganesh(256k).mp3', 'pooja singh pair.mp3', 'POV__you_are_a_runway_model_📸___PLAYLIST_(240p).mp4', 'prabhat 2.mp3', 'sanjoli.mp3', 'single walk.mp3', 'Tabla_Trance_-_Sound_By_Sabdar(256k).mp3', 'The_Prophet_-_Wanna_Play___Official_Videoclip_(256k).mp3', 'Vegas_-_Jiboya(256k).mp3', 'workout', 'yasmeen.mp3', '[FREE]_Streets_with__MAdNESS____Intense_UK_Drill_Type_Beat_#DrillInstrumental(256k).mp3', '_SOLD__Indian_Sitar___West_Coast_Gangsta_Boombap_Beat______कट्टर_____KATTAR___Prod.@XiSTENCE(256k).mp3', '_माफिया__-_Villain_Entry_BGM___Prod._By_DevAaGaya(256k).mp3', '🙉⚡FUNKY_FRESH__DJ_SACHIN_SP_DJ_MAYUR_VAIBHAV_CREATIVE#unreleased_#dj_#trance_#edm_#vairalvideo(256k).mp3']\n",
      "Listening....\n",
      "Recognising.....\n",
      "\n",
      "Say that again please.....\n",
      "Listening....\n",
      "Recognising.....\n",
      "User said: ok bye\n",
      "\n"
     ]
    }
   ],
   "source": [
    "def sendEmail(to, content):\n",
    "    server = smtplib.SMTP('smtp.gmail.com', 587)\n",
    "    server.ehlo()\n",
    "    server.starttls()\n",
    "    server.login('yourgmail@gmail.com', 'your-password')\n",
    "    server.sendmail('yourgmail@gmail.co', to, content)\n",
    "    server.close()\n",
    "\n",
    "def joke():\n",
    "    speak(pyjokes.get_jokes(language='en',category='all'))\n",
    "\n",
    "\n",
    "if __name__ == \"__main__\":\n",
    "    \n",
    "    wishMe()\n",
    "    while True:\n",
    "        query = takeCommand().lower()\n",
    "\n",
    "        if 'how are you' in query:\n",
    "            speak('i am very happy today, ap kaise ho')\n",
    "\n",
    "\n",
    "        elif 'open Linkedin' in query:\n",
    "            webbrowser.open(\"Linkedin.com\")\n",
    "\n",
    "        elif 'open instagram' in query:\n",
    "            webbrowser.open(\"instagram.com\")\n",
    "\n",
    "        elif 'open whatsapp' in query:\n",
    "            webbrowser.open(\"https://web.whatsapp.com/\")\n",
    "\n",
    "        elif 'what is the time' in query:\n",
    "            strTime = datetime.datetime.now().strftime(\"%H,%M\")\n",
    "            speak(f\"Sir, the time is {strTime}\")\n",
    "\n",
    "        elif 'send email' in query:\n",
    "            try:\n",
    "                speak(\"tell me the email id to whom you want to send\")\n",
    "                content = takeCommand()\n",
    "                to = \"yourgmail@gmail.co\"\n",
    "                sendEmail(to, content)\n",
    "                speak(\"Email has been sent!\")\n",
    "           \n",
    "            except Exception as e:\n",
    "                print(e)\n",
    "                speak(\"Sorry sir. I am not able to send this email\")\n",
    "\n",
    "        elif 'joke' in query:\n",
    "            speak('joke')\n",
    "            \n",
    "        elif 'open youtube' in query:\n",
    "            speak(\"just a minute sir\")\n",
    "            webbrowser.open('https://www.youtube.com')\n",
    "\n",
    "        elif 'open google' in query:\n",
    "            speak(\"just a minute sir\")\n",
    "            webbrowser.open('https:/www.google.com')\n",
    "            \n",
    "        elif 'play song' in query:\n",
    "            add = \"G:\\Musixxxxx\"\n",
    "            listsong = os.listdir(add)\n",
    "            print(listsong)\n",
    "            os.startfile(os.path.join(add,listsong[5]))\n",
    "        \n",
    "        elif 'ok bye' in query:\n",
    "            speak('bye-bye, have a good day')            \n",
    "            break\n",
    "\n",
    "\n",
    "\n"
   ]
  },
  {
   "cell_type": "code",
   "execution_count": null,
   "id": "7fc6d23a",
   "metadata": {},
   "outputs": [],
   "source": []
  },
  {
   "cell_type": "code",
   "execution_count": null,
   "id": "c0879731",
   "metadata": {},
   "outputs": [],
   "source": []
  },
  {
   "cell_type": "code",
   "execution_count": null,
   "id": "e0c72e67",
   "metadata": {},
   "outputs": [],
   "source": []
  }
 ],
 "metadata": {
  "kernelspec": {
   "display_name": "Python 3 (ipykernel)",
   "language": "python",
   "name": "python3"
  },
  "language_info": {
   "codemirror_mode": {
    "name": "ipython",
    "version": 3
   },
   "file_extension": ".py",
   "mimetype": "text/x-python",
   "name": "python",
   "nbconvert_exporter": "python",
   "pygments_lexer": "ipython3",
   "version": "3.10.9"
  }
 },
 "nbformat": 4,
 "nbformat_minor": 5
}
