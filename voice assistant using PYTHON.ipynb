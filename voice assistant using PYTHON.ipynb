{
 "cells": [
  {
   "cell_type": "code",
   "execution_count": 2,
   "id": "2df205ab",
   "metadata": {
    "collapsed": true
   },
   "outputs": [
    {
     "name": "stdout",
     "output_type": "stream",
     "text": [
      "Requirement already satisfied: pyttsx3 in c:\\users\\lenovo\\anaconda3\\lib\\site-packages (2.90)\n",
      "Requirement already satisfied: comtypes in c:\\users\\lenovo\\anaconda3\\lib\\site-packages (from pyttsx3) (1.3.0)\n",
      "Requirement already satisfied: pywin32 in c:\\users\\lenovo\\anaconda3\\lib\\site-packages (from pyttsx3) (305.1)\n",
      "Requirement already satisfied: pypiwin32 in c:\\users\\lenovo\\anaconda3\\lib\\site-packages (from pyttsx3) (223)\n"
     ]
    }
   ],
   "source": [
    "!pip install pyttsx3"
   ]
  },
  {
   "cell_type": "code",
   "execution_count": 3,
   "id": "c39e2267",
   "metadata": {
    "collapsed": true
   },
   "outputs": [
    {
     "name": "stdout",
     "output_type": "stream",
     "text": [
      "Requirement already satisfied: speechrecognition in c:\\users\\lenovo\\anaconda3\\lib\\site-packages (3.10.1)\n",
      "Requirement already satisfied: typing-extensions in c:\\users\\lenovo\\anaconda3\\lib\\site-packages (from speechrecognition) (4.4.0)\n",
      "Requirement already satisfied: requests>=2.26.0 in c:\\users\\lenovo\\anaconda3\\lib\\site-packages (from speechrecognition) (2.28.1)\n",
      "Requirement already satisfied: charset-normalizer<3,>=2 in c:\\users\\lenovo\\anaconda3\\lib\\site-packages (from requests>=2.26.0->speechrecognition) (2.0.4)\n",
      "Requirement already satisfied: certifi>=2017.4.17 in c:\\users\\lenovo\\anaconda3\\lib\\site-packages (from requests>=2.26.0->speechrecognition) (2022.12.7)\n",
      "Requirement already satisfied: idna<4,>=2.5 in c:\\users\\lenovo\\anaconda3\\lib\\site-packages (from requests>=2.26.0->speechrecognition) (3.4)\n",
      "Requirement already satisfied: urllib3<1.27,>=1.21.1 in c:\\users\\lenovo\\anaconda3\\lib\\site-packages (from requests>=2.26.0->speechrecognition) (1.26.14)\n"
     ]
    }
   ],
   "source": [
    "!pip install speechrecognition"
   ]
  },
  {
   "cell_type": "code",
   "execution_count": 6,
   "id": "7e705b64",
   "metadata": {
    "collapsed": true
   },
   "outputs": [
    {
     "name": "stdout",
     "output_type": "stream",
     "text": [
      "Collecting pyaudio\n",
      "  Downloading PyAudio-0.2.14-cp310-cp310-win_amd64.whl (164 kB)\n",
      "     ------------------------------------ 164.1/164.1 kB 757.8 kB/s eta 0:00:00\n",
      "Installing collected packages: pyaudio\n",
      "Successfully installed pyaudio-0.2.14\n"
     ]
    }
   ],
   "source": [
    "!pip install pyaudio"
   ]
  },
  {
   "cell_type": "code",
   "execution_count": 41,
   "id": "cee106b6",
   "metadata": {},
   "outputs": [],
   "source": [
    "import pyttsx3\n",
    "import datetime\n",
    "import speech_recognition as sr\n",
    "import webbrowser\n",
    "import smtplib\n",
    "import pyaudio\n",
    "import os\n",
    "import pyjokes\n"
   ]
  },
  {
   "cell_type": "code",
   "execution_count": 51,
   "id": "17a8a402",
   "metadata": {},
   "outputs": [],
   "source": [
    "def speak(audio):\n",
    "    engine.say(audio)\n",
    "    engine.runAndWait()\n",
    "\n",
    "def wishMe():\n",
    "    hour = int(datetime.datetime.now().hour)\n",
    "\n",
    "    if hour >= 0 and hour < 6:\n",
    "        speak(\"Hey Owl\")\n",
    "\n",
    "    elif hour >= 6 and hour < 12:\n",
    "        speak(\"Good Morning\")\n",
    "\n",
    "    elif hour >= 12 and hour < 18:\n",
    "        speak(\"Good Afternoon\")\n",
    "\n",
    "    else:\n",
    "        speak(\"Hello sir\")\n",
    "\n",
    "    speak(\"I'm CIPHER, Prateek's assistant\")\n",
    "    speak(\"Please tell me how may i help you ?\")"
   ]
  },
  {
   "cell_type": "code",
   "execution_count": 49,
   "id": "2f3dd177",
   "metadata": {},
   "outputs": [],
   "source": [
    "def takeCommand():\n",
    "    recognizer = sr.Recognizer()\n",
    "    with sr.Microphone() as source:\n",
    "        print(\"Listening....\")\n",
    "        recognizer.pause_threshold = 1\n",
    "        audio = recognizer.listen(source)\n",
    "\n",
    "    try:\n",
    "        print(\"Recognising.....\")\n",
    "        query = recognizer.recognize_google(audio, language='en-in')\n",
    "        print(f\"User said: {query}\\n\")\n",
    "        \n",
    "    except Exception as e:\n",
    "        print(e)\n",
    "        print(\"Say that again please.....\")\n",
    "        return \"None\"\n",
    "    return query\n"
   ]
  },
  {
   "cell_type": "code",
   "execution_count": 50,
   "id": "fefde0ce",
   "metadata": {},
   "outputs": [
    {
     "name": "stdout",
     "output_type": "stream",
     "text": [
      "Listening....\n",
      "Recognising.....\n",
      "User said: ok bye\n",
      "\n"
     ]
    }
   ],
   "source": [
    "def sendEmail(to, content):\n",
    "    server = smtplib.SMTP('smtp.gmail.com', 587)\n",
    "    server.ehlo()\n",
    "    server.starttls()\n",
    "    server.login('yourgmail@gmail.com', 'your-password')\n",
    "    server.sendmail('yourgmail@gmail.co', to, content)\n",
    "    server.close()\n",
    "\n",
    "def joke():\n",
    "    speak(pyjokes.get_jokes(language='en',category='all'))\n",
    "\n",
    "\n",
    "if __name__ == \"__main__\":\n",
    "    wishMe()\n",
    "    while True:\n",
    "        query = takeCommand().lower()\n",
    "\n",
    "        if 'how are you' in query:\n",
    "            speak('i am very happy today, ap kaise ho')\n",
    "\n",
    "\n",
    "        elif 'open Linkedin' in query:\n",
    "            webbrowser.open(\"Linkedin.com\")\n",
    "\n",
    "        elif 'open instagram' in query:\n",
    "            webbrowser.open(\"instagram.com\")\n",
    "\n",
    "        elif 'open whatsapp' in query:\n",
    "            webbrowser.open(\"https://web.whatsapp.com/\")\n",
    "\n",
    "        elif 'what is the time' in query:\n",
    "            strTime = datetime.datetime.now().strftime(\"%H,%M\")\n",
    "            speak(f\"Sir, the time is {strTime}\")\n",
    "\n",
    "        elif 'send email' in query:\n",
    "            try:\n",
    "                speak(\"tell me the email id to whom you want to send\")\n",
    "                content = takeCommand()\n",
    "                to = \"yourgmail@gmail.co\"\n",
    "                sendEmail(to, content)\n",
    "                speak(\"Email has been sent!\")\n",
    "           \n",
    "            except Exception as e:\n",
    "                print(e)\n",
    "                speak(\"Sorry sir. I am not able to send this email\")\n",
    "\n",
    "        elif 'joke' in query:\n",
    "            speak('joke')\n",
    "            \n",
    "        elif 'open youtube' in query:\n",
    "            speak(\"just a minute sir\")\n",
    "            webbrowser.open('https://www.youtube.com')\n",
    "\n",
    "        elif 'open google' in query:\n",
    "            speak(\"just a minute sir\")\n",
    "            webbrowser.open('https:/www.google.com')\n",
    "            \n",
    "        elif 'play song' in query:\n",
    "            add = \"G:\\Musixxxxx\"\n",
    "            listsong = os.listdir(add)\n",
    "            print(listsong)\n",
    "            os.startfile(os.path.join(add,listsong[5]))\n",
    "        \n",
    "        elif 'ok bye' in query:\n",
    "            speak('bye-bye, have a good day')            \n",
    "            break\n",
    "\n",
    "\n",
    "\n"
   ]
  },
  {
   "cell_type": "code",
   "execution_count": null,
   "id": "4af4a8be",
   "metadata": {},
   "outputs": [],
   "source": []
  },
  {
   "cell_type": "code",
   "execution_count": null,
   "id": "b1a36bed",
   "metadata": {},
   "outputs": [],
   "source": []
  }
 ],
 "metadata": {
  "kernelspec": {
   "display_name": "Python 3 (ipykernel)",
   "language": "python",
   "name": "python3"
  },
  "language_info": {
   "codemirror_mode": {
    "name": "ipython",
    "version": 3
   },
   "file_extension": ".py",
   "mimetype": "text/x-python",
   "name": "python",
   "nbconvert_exporter": "python",
   "pygments_lexer": "ipython3",
   "version": "3.10.9"
  }
 },
 "nbformat": 4,
 "nbformat_minor": 5
}
